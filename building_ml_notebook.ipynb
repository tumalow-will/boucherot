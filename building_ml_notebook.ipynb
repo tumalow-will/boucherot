{
 "cells": [
  {
   "cell_type": "code",
   "execution_count": 1,
   "metadata": {
    "ExecuteTime": {
     "end_time": "2020-06-09T23:43:18.207726Z",
     "start_time": "2020-06-09T23:43:17.007442Z"
    }
   },
   "outputs": [
    {
     "name": "stdout",
     "output_type": "stream",
     "text": [
      "Requirement already satisfied: tables in /code/venvs/venv/lib/python3.6/site-packages\r\n",
      "Requirement already satisfied: numexpr>=2.6.2 in /code/venvs/venv/lib/python3.6/site-packages (from tables)\r\n",
      "Requirement already satisfied: numpy>=1.9.3 in /code/venvs/venv/lib/python3.6/site-packages (from tables)\r\n"
     ]
    }
   ],
   "source": [
    "!pip install tables"
   ]
  },
  {
   "cell_type": "code",
   "execution_count": 2,
   "metadata": {
    "ExecuteTime": {
     "end_time": "2020-06-09T23:43:19.775818Z",
     "start_time": "2020-06-09T23:43:19.379021Z"
    }
   },
   "outputs": [],
   "source": [
    "import os\n",
    "import requests\n",
    "import pandas as pd\n",
    "#df = pd.read_csv('/home/will/notebooks/usage_data/cmg/2020-04-19__2020-04-26/Fire-MainService.raw.2020-04-19__2020-04-26.csv')\n",
    "\n",
    "def add_time_cols(df):\n",
    "    '''\n",
    "    Returns a dataframe with added columns describing the time of each measurement.\n",
    "    \n",
    "    df     input dataframe\n",
    "    '''\n",
    "    df.loc[:,'hr'] = df.index.map(lambda d: d.timetuple().tm_hour)    \n",
    "    df.loc[:,'month'] = df.index.map(lambda d: d.timetuple().tm_mon)\n",
    "    df.loc[:,'year'] = df.index.map(lambda d: d.timetuple().tm_year)\n",
    "    df.loc[:,'mday'] = df.index.map(lambda d: d.timetuple().tm_mday)\n",
    "    df.loc[:,'yday'] = df.index.map(lambda d: d.timetuple().tm_yday)\n",
    "    df.loc[:,'yrmonth'] = df['year']*100 + df['month']\n",
    "    df.loc[:,'yryday'] = df['year']*1000 + df['yday']\n",
    "    return df\n",
    "\n",
    "def process_df(df):\n",
    "    #df =df.set_index(pd.to_datetime(df.ts))\n",
    "    #del df['ts']\n",
    "    #df.columns = ['usage']\n",
    "    return add_time_cols(df)\n",
    "\n",
    "def load_df(key, hdf='dataset.h5'):\n",
    "    df = pd.read_hdf(hdf, key=key, mode='r+')\n",
    "    return process_df(df)\n",
    "\n",
    "def see_available_datasets(hdf='dataset.h5'):\n",
    "    store = pd.HDFStore(hdf)\n",
    "    return store.keys()\n",
    "\n",
    "def download_dataset(url='https://wtgtemp.s3.amazonaws.com/dataset.h5', hdf='dataset.h5', force=False):\n",
    "    if os.path.exists(hdf):\n",
    "        print(\"Dataset already exists.  Skipping.  Rename or delete the file to download again\")\n",
    "        return False\n",
    "    print(\"Downloading...\")\n",
    "    resp = requests.get(url)\n",
    "    with open(hdf, 'wb') as f:\n",
    "        f.write(resp.content)"
   ]
  },
  {
   "cell_type": "markdown",
   "metadata": {},
   "source": [
    "Some functions Ive found generally useful for slicing and dicing"
   ]
  },
  {
   "cell_type": "code",
   "execution_count": 3,
   "metadata": {
    "ExecuteTime": {
     "end_time": "2020-06-09T23:43:21.591990Z",
     "start_time": "2020-06-09T23:43:21.581019Z"
    }
   },
   "outputs": [],
   "source": [
    "#retrievers ====================\n",
    "def get_item(df, name, value):\n",
    "    '''\n",
    "    Returns a subsection of the dataframe df constituted by all rows corresponding to an arbitrary column value\n",
    "    \n",
    "    df:        dataframe input\n",
    "    name:      name of the column whose value is being examined. (Ex: \"year\")\n",
    "    value:     column value whose rows will be included in the returned dataframe. (Ex: \"2018\")\n",
    "    '''\n",
    "    return df.ix[df[name]==value]\n",
    "\n",
    "def get_day(df, yryday):\n",
    "    '''\n",
    "    Returns the subsection of the dataframe df corresponding to yryday\n",
    "    \n",
    "    df:          dataframe input\n",
    "    yrmonth:     year and day (in \"year_yday\" format, ex: 201842 for 2/11) whose subsection is returned\n",
    "    '''\n",
    "    return get_item(df, 'yryday', yryday)\n",
    "\n",
    "def get_month(df, yrmonth):\n",
    "    '''\n",
    "    Returns the subsection of the dataframe df corresponding to yrmonth\n",
    "    \n",
    "    df:          dataframe input\n",
    "    yrmonth:     year and month (in \"year_month\" format, ex: 201803 for 3/2018) whose subsection is returned\n",
    "    '''\n",
    "    return get_item(df, 'yrmonth', yrmonth)\n",
    "\n",
    "#iterators ==================\n",
    "def get_list_dfs(df, name):\n",
    "    '''\n",
    "    Decomposes an input dataframe into separate dataframes, each with rows corresponding to a unique value on a specified column.\n",
    "    \n",
    "    df:      input dataframe\n",
    "    name:    column whose values are examined\n",
    "    \n",
    "    '''\n",
    "    return [df.ix[df[name]==value] for value in df[name].unique()]\n",
    "\n",
    "def month_dfs(df):\n",
    "    '''\n",
    "    Returns a list of dfs, one for each month\n",
    "    '''\n",
    "    #return [df.ix[df.yrmonth==yrmonth] for yrmonth in df.yrmonth.unique()]\n",
    "    return get_list_dfs(df, 'yrmonth')\n",
    "\n",
    "def day_dfs(df):\n",
    "    '''\n",
    "    Returns a list of dfs, one for each day.\n",
    "    '''\n",
    "    return get_list_dfs(df, 'yryday')\n"
   ]
  },
  {
   "cell_type": "code",
   "execution_count": 4,
   "metadata": {
    "ExecuteTime": {
     "end_time": "2020-06-09T23:43:25.524053Z",
     "start_time": "2020-06-09T23:43:25.127564Z"
    }
   },
   "outputs": [
    {
     "name": "stdout",
     "output_type": "stream",
     "text": [
      "Dataset already exists.  Skipping.  Rename or delete the file to download again\n"
     ]
    },
    {
     "data": {
      "text/plain": [
       "['/cmg/BofED-Admin',\n",
       " '/cmg/CHS-EmergencyService',\n",
       " '/cmg/CHS-MainService',\n",
       " '/cmg/CNH-MainService',\n",
       " '/cmg/Fire-MainService',\n",
       " '/cmg/OH-FrontBldg1',\n",
       " '/cmg/OH-FrontBldg2',\n",
       " '/cmg/OH-FrontBldg3',\n",
       " '/cmg/OH-FrontBldg4',\n",
       " '/cmg/OH-FrontCommCtr',\n",
       " '/cmg/OH-RearBldg1',\n",
       " '/cmg/OH-RearBldg2',\n",
       " '/cmg/OH-RearBldg3',\n",
       " '/cmg/OH-RearBldg4',\n",
       " '/cmg/OH-RearCommCtr',\n",
       " '/cmg/Police-MainService',\n",
       " '/cmg/TH-AnnexRadioTower',\n",
       " '/cmg/TH-MainService']"
      ]
     },
     "execution_count": 4,
     "metadata": {},
     "output_type": "execute_result"
    }
   ],
   "source": [
    "download_dataset()\n",
    "see_available_datasets()"
   ]
  },
  {
   "cell_type": "code",
   "execution_count": 5,
   "metadata": {
    "ExecuteTime": {
     "end_time": "2020-06-09T23:43:32.743080Z",
     "start_time": "2020-06-09T23:43:27.652431Z"
    }
   },
   "outputs": [],
   "source": [
    "df = load_df('/cmg/BofED-Admin')\\"
   ]
  },
  {
   "cell_type": "code",
   "execution_count": 13,
   "metadata": {
    "ExecuteTime": {
     "end_time": "2020-06-09T22:50:27.130753Z",
     "start_time": "2020-06-09T22:50:27.123292Z"
    }
   },
   "outputs": [
    {
     "data": {
      "text/plain": [
       "0.59184"
      ]
     },
     "execution_count": 13,
     "metadata": {},
     "output_type": "execute_result"
    }
   ],
   "source": [
    "df.iloc[0]['usage']"
   ]
  },
  {
   "cell_type": "code",
   "execution_count": 6,
   "metadata": {
    "ExecuteTime": {
     "end_time": "2020-06-09T23:43:32.750356Z",
     "start_time": "2020-06-09T23:43:32.745927Z"
    }
   },
   "outputs": [],
   "source": [
    "df['ts'] = df.index"
   ]
  },
  {
   "cell_type": "code",
   "execution_count": 26,
   "metadata": {
    "ExecuteTime": {
     "end_time": "2020-06-09T22:59:13.855448Z",
     "start_time": "2020-06-09T22:59:13.810580Z"
    }
   },
   "outputs": [
    {
     "ename": "ImportError",
     "evalue": "cannot import name 'qualitative'",
     "output_type": "error",
     "traceback": [
      "\u001b[0;31m---------------------------------------------------------------------------\u001b[0m",
      "\u001b[0;31mImportError\u001b[0m                               Traceback (most recent call last)",
      "\u001b[0;32m<ipython-input-26-413c730df445>\u001b[0m in \u001b[0;36m<module>\u001b[0;34m\u001b[0m\n\u001b[0;32m----> 1\u001b[0;31m \u001b[0;32mimport\u001b[0m \u001b[0mplotly\u001b[0m\u001b[0;34m.\u001b[0m\u001b[0mexpress\u001b[0m \u001b[0;32mas\u001b[0m \u001b[0mpx\u001b[0m\u001b[0;34m\u001b[0m\u001b[0;34m\u001b[0m\u001b[0m\n\u001b[0m\u001b[1;32m      2\u001b[0m \u001b[0;34m\u001b[0m\u001b[0m\n\u001b[1;32m      3\u001b[0m \u001b[0mfig\u001b[0m \u001b[0;34m=\u001b[0m \u001b[0mpx\u001b[0m\u001b[0;34m.\u001b[0m\u001b[0mline\u001b[0m\u001b[0;34m(\u001b[0m\u001b[0mdf\u001b[0m\u001b[0;34m,\u001b[0m \u001b[0mx\u001b[0m\u001b[0;34m=\u001b[0m\u001b[0;34m'ts'\u001b[0m\u001b[0;34m,\u001b[0m \u001b[0my\u001b[0m\u001b[0;34m=\u001b[0m\u001b[0;34m'usage'\u001b[0m\u001b[0;34m)\u001b[0m\u001b[0;34m\u001b[0m\u001b[0;34m\u001b[0m\u001b[0m\n\u001b[1;32m      4\u001b[0m \u001b[0mfig\u001b[0m\u001b[0;34m.\u001b[0m\u001b[0mshow\u001b[0m\u001b[0;34m(\u001b[0m\u001b[0;34m)\u001b[0m\u001b[0;34m\u001b[0m\u001b[0;34m\u001b[0m\u001b[0m\n",
      "\u001b[0;32m/code/venvs/venv/lib/python3.6/site-packages/plotly/express/__init__.py\u001b[0m in \u001b[0;36m<module>\u001b[0;34m\u001b[0m\n\u001b[1;32m     13\u001b[0m     )\n\u001b[1;32m     14\u001b[0m \u001b[0;34m\u001b[0m\u001b[0m\n\u001b[0;32m---> 15\u001b[0;31m \u001b[0;32mfrom\u001b[0m \u001b[0;34m.\u001b[0m\u001b[0m_imshow\u001b[0m \u001b[0;32mimport\u001b[0m \u001b[0mimshow\u001b[0m\u001b[0;34m\u001b[0m\u001b[0;34m\u001b[0m\u001b[0m\n\u001b[0m\u001b[1;32m     16\u001b[0m from ._chart_types import (  # noqa: F401\n\u001b[1;32m     17\u001b[0m     \u001b[0mscatter\u001b[0m\u001b[0;34m,\u001b[0m\u001b[0;34m\u001b[0m\u001b[0;34m\u001b[0m\u001b[0m\n",
      "\u001b[0;32m/code/venvs/venv/lib/python3.6/site-packages/plotly/express/_imshow.py\u001b[0m in \u001b[0;36m<module>\u001b[0;34m\u001b[0m\n\u001b[1;32m      1\u001b[0m \u001b[0;32mimport\u001b[0m \u001b[0mplotly\u001b[0m\u001b[0;34m.\u001b[0m\u001b[0mgraph_objs\u001b[0m \u001b[0;32mas\u001b[0m \u001b[0mgo\u001b[0m\u001b[0;34m\u001b[0m\u001b[0;34m\u001b[0m\u001b[0m\n\u001b[1;32m      2\u001b[0m \u001b[0;32mfrom\u001b[0m \u001b[0m_plotly_utils\u001b[0m\u001b[0;34m.\u001b[0m\u001b[0mbasevalidators\u001b[0m \u001b[0;32mimport\u001b[0m \u001b[0mColorscaleValidator\u001b[0m\u001b[0;34m\u001b[0m\u001b[0;34m\u001b[0m\u001b[0m\n\u001b[0;32m----> 3\u001b[0;31m \u001b[0;32mfrom\u001b[0m \u001b[0;34m.\u001b[0m\u001b[0m_core\u001b[0m \u001b[0;32mimport\u001b[0m \u001b[0mapply_default_cascade\u001b[0m\u001b[0;34m\u001b[0m\u001b[0;34m\u001b[0m\u001b[0m\n\u001b[0m\u001b[1;32m      4\u001b[0m \u001b[0;32mimport\u001b[0m \u001b[0mnumpy\u001b[0m \u001b[0;32mas\u001b[0m \u001b[0mnp\u001b[0m\u001b[0;34m\u001b[0m\u001b[0;34m\u001b[0m\u001b[0m\n\u001b[1;32m      5\u001b[0m \u001b[0;34m\u001b[0m\u001b[0m\n",
      "\u001b[0;32m/code/venvs/venv/lib/python3.6/site-packages/plotly/express/_core.py\u001b[0m in \u001b[0;36m<module>\u001b[0;34m\u001b[0m\n\u001b[1;32m      5\u001b[0m \u001b[0;34m\u001b[0m\u001b[0m\n\u001b[1;32m      6\u001b[0m \u001b[0;32mfrom\u001b[0m \u001b[0m_plotly_utils\u001b[0m\u001b[0;34m.\u001b[0m\u001b[0mbasevalidators\u001b[0m \u001b[0;32mimport\u001b[0m \u001b[0mColorscaleValidator\u001b[0m\u001b[0;34m\u001b[0m\u001b[0;34m\u001b[0m\u001b[0m\n\u001b[0;32m----> 7\u001b[0;31m \u001b[0;32mfrom\u001b[0m \u001b[0mplotly\u001b[0m\u001b[0;34m.\u001b[0m\u001b[0mcolors\u001b[0m \u001b[0;32mimport\u001b[0m \u001b[0mqualitative\u001b[0m\u001b[0;34m,\u001b[0m \u001b[0msequential\u001b[0m\u001b[0;34m\u001b[0m\u001b[0;34m\u001b[0m\u001b[0m\n\u001b[0m\u001b[1;32m      8\u001b[0m \u001b[0;32mimport\u001b[0m \u001b[0mmath\u001b[0m\u001b[0;34m\u001b[0m\u001b[0;34m\u001b[0m\u001b[0m\n\u001b[1;32m      9\u001b[0m \u001b[0;32mimport\u001b[0m \u001b[0mpandas\u001b[0m \u001b[0;32mas\u001b[0m \u001b[0mpd\u001b[0m\u001b[0;34m\u001b[0m\u001b[0;34m\u001b[0m\u001b[0m\n",
      "\u001b[0;31mImportError\u001b[0m: cannot import name 'qualitative'"
     ]
    }
   ],
   "source": [
    "import plotly.express as px\n",
    "\n",
    "fig = px.line(df, x='ts', y='usage')\n",
    "fig.show()"
   ]
  },
  {
   "cell_type": "code",
   "execution_count": 8,
   "metadata": {
    "ExecuteTime": {
     "end_time": "2020-06-09T23:43:41.499256Z",
     "start_time": "2020-06-09T23:43:41.345254Z"
    }
   },
   "outputs": [],
   "source": [
    "import matplotlib.pyplot as plt"
   ]
  },
  {
   "cell_type": "code",
   "execution_count": 9,
   "metadata": {
    "ExecuteTime": {
     "end_time": "2020-06-09T23:43:43.560831Z",
     "start_time": "2020-06-09T23:43:43.323617Z"
    }
   },
   "outputs": [
    {
     "data": {
      "image/png": "[encoded data removed]",
      "text/plain": [
       "<Figure size 432x288 with 1 Axes>"
      ]
     },
     "metadata": {
      "needs_background": "light"
     },
     "output_type": "display_data"
    }
   ],
   "source": [
    "# gca stands for 'get current axis'\n",
    "ax = plt.gca()\n",
    "\n",
    "last_month_df = df[df.ts>'2020-04-21']\n",
    "\n",
    "\n",
    "last_month_df.plot(kind='line',x='ts',y='usage',ax=ax)\n",
    "\n",
    "\n",
    "plt.show()"
   ]
  },
  {
   "cell_type": "code",
   "execution_count": 10,
   "metadata": {
    "ExecuteTime": {
     "end_time": "2020-06-09T23:43:47.091329Z",
     "start_time": "2020-06-09T23:43:46.842734Z"
    }
   },
   "outputs": [
    {
     "data": {
      "image/png": "[encoded data removed]",
      "text/plain": [
       "<Figure size 432x288 with 1 Axes>"
      ]
     },
     "metadata": {
      "needs_background": "light"
     },
     "output_type": "display_data"
    }
   ],
   "source": [
    "ax = plt.gca()\n",
    "resampled_last_month = last_month_df.resample('60T').mean()\n",
    "resampled_last_month['ts'] = resampled_last_month.index\n",
    "resampled_last_month.plot(kind='line',x='ts',y='usage',ax=ax)\n",
    "plt.show()"
   ]
  },
  {
   "cell_type": "code",
   "execution_count": 42,
   "metadata": {
    "ExecuteTime": {
     "end_time": "2020-06-09T23:10:35.803748Z",
     "start_time": "2020-06-09T23:10:35.787023Z"
    }
   },
   "outputs": [
    {
     "data": {
      "text/html": [
       "<div>\n",
       "<style scoped>\n",
       "    .dataframe tbody tr th:only-of-type {\n",
       "        vertical-align: middle;\n",
       "    }\n",
       "\n",
       "    .dataframe tbody tr th {\n",
       "        vertical-align: top;\n",
       "    }\n",
       "\n",
       "    .dataframe thead th {\n",
       "        text-align: right;\n",
       "    }\n",
       "</style>\n",
       "<table border=\"1\" class=\"dataframe\">\n",
       "  <thead>\n",
       "    <tr style=\"text-align: right;\">\n",
       "      <th></th>\n",
       "      <th>usage</th>\n",
       "      <th>hr</th>\n",
       "      <th>month</th>\n",
       "      <th>year</th>\n",
       "      <th>mday</th>\n",
       "      <th>yday</th>\n",
       "      <th>yrmonth</th>\n",
       "      <th>yryday</th>\n",
       "      <th>ts</th>\n",
       "    </tr>\n",
       "    <tr>\n",
       "      <th>ts</th>\n",
       "      <th></th>\n",
       "      <th></th>\n",
       "      <th></th>\n",
       "      <th></th>\n",
       "      <th></th>\n",
       "      <th></th>\n",
       "      <th></th>\n",
       "      <th></th>\n",
       "      <th></th>\n",
       "    </tr>\n",
       "  </thead>\n",
       "  <tbody>\n",
       "    <tr>\n",
       "      <th>2020-04-21 00:00:00</th>\n",
       "      <td>1.72439</td>\n",
       "      <td>0</td>\n",
       "      <td>4</td>\n",
       "      <td>2020</td>\n",
       "      <td>21</td>\n",
       "      <td>112</td>\n",
       "      <td>202004</td>\n",
       "      <td>2020112</td>\n",
       "      <td>2020-04-21 00:00:00</td>\n",
       "    </tr>\n",
       "    <tr>\n",
       "      <th>2020-04-21 01:00:00</th>\n",
       "      <td>2.15613</td>\n",
       "      <td>1</td>\n",
       "      <td>4</td>\n",
       "      <td>2020</td>\n",
       "      <td>21</td>\n",
       "      <td>112</td>\n",
       "      <td>202004</td>\n",
       "      <td>2020112</td>\n",
       "      <td>2020-04-21 01:00:00</td>\n",
       "    </tr>\n",
       "    <tr>\n",
       "      <th>2020-04-21 02:00:00</th>\n",
       "      <td>1.68158</td>\n",
       "      <td>2</td>\n",
       "      <td>4</td>\n",
       "      <td>2020</td>\n",
       "      <td>21</td>\n",
       "      <td>112</td>\n",
       "      <td>202004</td>\n",
       "      <td>2020112</td>\n",
       "      <td>2020-04-21 02:00:00</td>\n",
       "    </tr>\n",
       "    <tr>\n",
       "      <th>2020-04-21 03:00:00</th>\n",
       "      <td>1.78826</td>\n",
       "      <td>3</td>\n",
       "      <td>4</td>\n",
       "      <td>2020</td>\n",
       "      <td>21</td>\n",
       "      <td>112</td>\n",
       "      <td>202004</td>\n",
       "      <td>2020112</td>\n",
       "      <td>2020-04-21 03:00:00</td>\n",
       "    </tr>\n",
       "    <tr>\n",
       "      <th>2020-04-21 04:00:00</th>\n",
       "      <td>1.67410</td>\n",
       "      <td>4</td>\n",
       "      <td>4</td>\n",
       "      <td>2020</td>\n",
       "      <td>21</td>\n",
       "      <td>112</td>\n",
       "      <td>202004</td>\n",
       "      <td>2020112</td>\n",
       "      <td>2020-04-21 04:00:00</td>\n",
       "    </tr>\n",
       "  </tbody>\n",
       "</table>\n",
       "</div>"
      ],
      "text/plain": [
       "                       usage  hr  month  year  mday  yday  yrmonth   yryday  \\\n",
       "ts                                                                            \n",
       "2020-04-21 00:00:00  1.72439   0      4  2020    21   112   202004  2020112   \n",
       "2020-04-21 01:00:00  2.15613   1      4  2020    21   112   202004  2020112   \n",
       "2020-04-21 02:00:00  1.68158   2      4  2020    21   112   202004  2020112   \n",
       "2020-04-21 03:00:00  1.78826   3      4  2020    21   112   202004  2020112   \n",
       "2020-04-21 04:00:00  1.67410   4      4  2020    21   112   202004  2020112   \n",
       "\n",
       "                                     ts  \n",
       "ts                                       \n",
       "2020-04-21 00:00:00 2020-04-21 00:00:00  \n",
       "2020-04-21 01:00:00 2020-04-21 01:00:00  \n",
       "2020-04-21 02:00:00 2020-04-21 02:00:00  \n",
       "2020-04-21 03:00:00 2020-04-21 03:00:00  \n",
       "2020-04-21 04:00:00 2020-04-21 04:00:00  "
      ]
     },
     "execution_count": 42,
     "metadata": {},
     "output_type": "execute_result"
    }
   ],
   "source": [
    "resampled_last_month[0:5]"
   ]
  },
  {
   "cell_type": "code",
   "execution_count": 15,
   "metadata": {
    "ExecuteTime": {
     "end_time": "2020-06-09T23:44:24.377511Z",
     "start_time": "2020-06-09T23:44:24.373114Z"
    }
   },
   "outputs": [],
   "source": [
    "train = resampled_last_month['usage']"
   ]
  },
  {
   "cell_type": "code",
   "execution_count": null,
   "metadata": {},
   "outputs": [],
   "source": []
  },
  {
   "cell_type": "code",
   "execution_count": 45,
   "metadata": {
    "ExecuteTime": {
     "end_time": "2020-06-09T23:11:32.072756Z",
     "start_time": "2020-06-09T23:11:32.051796Z"
    }
   },
   "outputs": [
    {
     "name": "stdout",
     "output_type": "stream",
     "text": [
      "2.638698971842433e-12\n"
     ]
    }
   ],
   "source": [
    "from statsmodels.tsa.stattools import adfuller\n",
    "adf, pvalue, usedlag_, nobs_, critical_values_, icbest_ = adfuller(resampled_last_month['usage'])\n",
    "print(pvalue)"
   ]
  },
  {
   "cell_type": "code",
   "execution_count": 12,
   "metadata": {
    "ExecuteTime": {
     "end_time": "2020-06-09T23:44:04.340339Z",
     "start_time": "2020-06-09T23:44:03.489699Z"
    }
   },
   "outputs": [
    {
     "data": {
      "image/png": "[encoded data removed]",
      "text/plain": [
       "<Figure size 432x288 with 2 Axes>"
      ]
     },
     "metadata": {
      "needs_background": "light"
     },
     "output_type": "display_data"
    }
   ],
   "source": [
    "import statsmodels.api as sm\n",
    "\n",
    "fig, ax = plt.subplots(2,1)\n",
    "fig = sm.graphics.tsa.plot_acf(resampled_last_month['usage'], lags=50, ax=ax[0])\n",
    "fig = sm.graphics.tsa.plot_pacf(resampled_last_month['usage'], lags=50, ax=ax[1])\n",
    "plt.show()"
   ]
  },
  {
   "cell_type": "code",
   "execution_count": 13,
   "metadata": {
    "ExecuteTime": {
     "end_time": "2020-06-09T23:44:08.969719Z",
     "start_time": "2020-06-09T23:44:06.882601Z"
    }
   },
   "outputs": [
    {
     "name": "stdout",
     "output_type": "stream",
     "text": [
      "Optimization terminated successfully.\n",
      "         Current function value: 0.795890\n",
      "         Iterations: 3\n",
      "         Function evaluations: 141\n"
     ]
    },
    {
     "data": {
      "image/png": "[encoded data removed]",
      "text/plain": [
       "<Figure size 432x288 with 2 Axes>"
      ]
     },
     "metadata": {
      "needs_background": "light"
     },
     "output_type": "display_data"
    }
   ],
   "source": [
    "model = sm.tsa.statespace.SARIMAX(\n",
    "    resampled_last_month['usage'], \n",
    "    order=(1,1,0), \n",
    "    seasonal_order=(1,1,0,24)\n",
    ").fit(max_iter=50, method='powell')\n",
    "\n",
    "res = model.resid\n",
    "fig, ax = plt.subplots(2,1)\n",
    "fig = sm.graphics.tsa.plot_acf(res, lags=50, ax=ax[0])\n",
    "fig = sm.graphics.tsa.plot_pacf(res, lags=50, ax=ax[1])\n",
    "plt.show()"
   ]
  },
  {
   "cell_type": "code",
   "execution_count": null,
   "metadata": {
    "ExecuteTime": {
     "start_time": "2020-06-09T23:32:20.815Z"
    }
   },
   "outputs": [
    {
     "name": "stdout",
     "output_type": "stream",
     "text": [
      "Optimization terminated successfully.\n",
      "         Current function value: 0.632465\n",
      "         Iterations: 7\n",
      "         Function evaluations: 439\n",
      "SARIMA(1, 0, 1),(1, 0, 1, 24) - AIC:404.6582987233693\n",
      "Optimization terminated successfully.\n",
      "         Current function value: 0.677059\n",
      "         Iterations: 5\n",
      "         Function evaluations: 327\n",
      "SARIMA(1, 0, 1),(1, 0, 1, 30) - AIC:432.4849448203555\n",
      "Optimization terminated successfully.\n",
      "         Current function value: 0.663487\n",
      "         Iterations: 3\n",
      "         Function evaluations: 193\n",
      "SARIMA(1, 0, 1),(1, 0, 1, 36) - AIC:424.01582840165486\n"
     ]
    },
    {
     "name": "stderr",
     "output_type": "stream",
     "text": [
      "/code/venvs/venv/lib/python3.6/site-packages/statsmodels/tsa/statespace/sarimax.py:1006: UserWarning:\n",
      "\n",
      "Non-invertible starting seasonal moving average Using zeros as starting parameters.\n",
      "\n"
     ]
    },
    {
     "name": "stdout",
     "output_type": "stream",
     "text": [
      "Optimization terminated successfully.\n",
      "         Current function value: 0.680509\n",
      "         Iterations: 7\n",
      "         Function evaluations: 443\n",
      "SARIMA(1, 0, 1),(1, 0, 1, 42) - AIC:434.63732927935234\n"
     ]
    },
    {
     "name": "stderr",
     "output_type": "stream",
     "text": [
      "/code/venvs/venv/lib/python3.6/site-packages/statsmodels/tsa/statespace/sarimax.py:994: UserWarning:\n",
      "\n",
      "Non-stationary starting seasonal autoregressive Using zeros as starting parameters.\n",
      "\n"
     ]
    },
    {
     "name": "stdout",
     "output_type": "stream",
     "text": [
      "Optimization terminated successfully.\n",
      "         Current function value: 0.643121\n",
      "         Iterations: 13\n",
      "         Function evaluations: 876\n",
      "SARIMA(1, 0, 1),(1, 0, 1, 48) - AIC:411.3074900535293\n",
      "Optimization terminated successfully.\n",
      "         Current function value: 0.630483\n",
      "         Iterations: 5\n",
      "         Function evaluations: 437\n",
      "SARIMA(1, 0, 1),(1, 0, 2, 24) - AIC:405.42108858326304\n",
      "Optimization terminated successfully.\n",
      "         Current function value: 0.675846\n",
      "         Iterations: 5\n",
      "         Function evaluations: 383\n",
      "SARIMA(1, 0, 1),(1, 0, 2, 30) - AIC:433.72776329363097\n",
      "Optimization terminated successfully.\n",
      "         Current function value: 0.632979\n",
      "         Iterations: 9\n",
      "         Function evaluations: 708\n",
      "SARIMA(1, 0, 1),(1, 0, 2, 48) - AIC:406.97900183322304\n",
      "Optimization terminated successfully.\n",
      "         Current function value: 0.600713\n",
      "         Iterations: 5\n",
      "         Function evaluations: 325\n",
      "SARIMA(1, 0, 1),(1, 1, 1, 24) - AIC:384.8447244498884\n",
      "Optimization terminated successfully.\n",
      "         Current function value: 0.693427\n",
      "         Iterations: 6\n",
      "         Function evaluations: 393\n",
      "SARIMA(1, 0, 1),(1, 1, 1, 30) - AIC:442.6982247294062\n",
      "Optimization terminated successfully.\n",
      "         Current function value: 0.618717\n",
      "         Iterations: 5\n",
      "         Function evaluations: 335\n",
      "SARIMA(1, 0, 1),(1, 1, 1, 36) - AIC:396.0791471233784\n",
      "Optimization terminated successfully.\n",
      "         Current function value: 0.685695\n",
      "         Iterations: 5\n",
      "         Function evaluations: 334\n",
      "SARIMA(1, 0, 1),(1, 1, 1, 42) - AIC:437.8737804269142\n",
      "Optimization terminated successfully.\n",
      "         Current function value: 0.589371\n",
      "         Iterations: 7\n",
      "         Function evaluations: 445\n",
      "SARIMA(1, 0, 1),(1, 1, 1, 48) - AIC:377.76748479887476\n",
      "Optimization terminated successfully.\n",
      "         Current function value: 0.602537\n",
      "         Iterations: 5\n",
      "         Function evaluations: 398\n",
      "SARIMA(1, 0, 1),(1, 1, 2, 24) - AIC:387.98326763089904\n",
      "Optimization terminated successfully.\n",
      "         Current function value: 0.694131\n",
      "         Iterations: 4\n",
      "         Function evaluations: 317\n",
      "SARIMA(1, 0, 1),(1, 1, 2, 30) - AIC:445.1375991855595\n",
      "Optimization terminated successfully.\n",
      "         Current function value: 0.615204\n",
      "         Iterations: 5\n",
      "         Function evaluations: 386\n",
      "SARIMA(1, 0, 1),(1, 1, 2, 36) - AIC:395.8871065195458\n",
      "Optimization terminated successfully.\n",
      "         Current function value: 0.685797\n",
      "         Iterations: 4\n",
      "         Function evaluations: 314\n",
      "SARIMA(1, 0, 1),(1, 1, 2, 42) - AIC:439.93727267457746\n"
     ]
    },
    {
     "name": "stderr",
     "output_type": "stream",
     "text": [
      "/code/venvs/venv/lib/python3.6/site-packages/statsmodels/tsa/statespace/sarimax.py:868: UserWarning:\n",
      "\n",
      "Too few observations to estimate starting parameters for seasonal ARMA. All parameters except for variances will be set to zeros.\n",
      "\n"
     ]
    },
    {
     "name": "stdout",
     "output_type": "stream",
     "text": [
      "Optimization terminated successfully.\n",
      "         Current function value: 0.653422\n",
      "         Iterations: 4\n",
      "         Function evaluations: 306\n",
      "SARIMA(1, 0, 1),(2, 0, 1, 36) - AIC:419.73538006407585\n",
      "Optimization terminated successfully.\n",
      "         Current function value: 0.634544\n",
      "         Iterations: 5\n",
      "         Function evaluations: 371\n",
      "SARIMA(1, 0, 1),(2, 0, 1, 48) - AIC:407.95531872121643\n"
     ]
    }
   ],
   "source": [
    "import itertools\n",
    "#set parameter range\n",
    "p = range(1,3)\n",
    "q = range(1,3)\n",
    "d = range(0,2)\n",
    "s = range(24,49,6)\n",
    "# list of all parameter combos\n",
    "pdq = list(itertools.product(p, d, q))\n",
    "seasonal_pdq = list(itertools.product(p, d, q, s))\n",
    "# SARIMA model pipeline\n",
    "for param in pdq:\n",
    "    for param_seasonal in seasonal_pdq:\n",
    "        try:\n",
    "            mod = sm.tsa.statespace.SARIMAX(\n",
    "                                    train,\n",
    "                                    order=param,\n",
    "                                    seasonal_order=param_seasonal)\n",
    "            results = mod.fit(max_iter = 50, method = 'powell')\n",
    "            print('SARIMA{},{} - AIC:{}'.format(param, param_seasonal, results.aic))\n",
    "        except:\n",
    "            continue"
   ]
  },
  {
   "cell_type": "code",
   "execution_count": 16,
   "metadata": {
    "ExecuteTime": {
     "end_time": "2020-06-09T23:44:28.334937Z",
     "start_time": "2020-06-09T23:44:28.328930Z"
    }
   },
   "outputs": [
    {
     "data": {
      "text/plain": [
       "(312,)"
      ]
     },
     "execution_count": 16,
     "metadata": {},
     "output_type": "execute_result"
    }
   ],
   "source": [
    "train.shape"
   ]
  },
  {
   "cell_type": "code",
   "execution_count": 35,
   "metadata": {
    "ExecuteTime": {
     "end_time": "2020-06-10T00:04:33.992429Z",
     "start_time": "2020-06-10T00:04:33.973297Z"
    }
   },
   "outputs": [],
   "source": [
    "from IPython.core.debugger import set_trace\n",
    "\n",
    "# data = entire dataset\n",
    "# n_test = point where data is split into training and test sets\n",
    "def walk_forward_validation(data, n_test):\n",
    "    predictions = np.array([])\n",
    "    mape_list = []\n",
    "    train, test = data[:n_test], data[n_test:]\n",
    "#     day_list = [7,14,21,28] # weeks 1,2,3,4\n",
    "    hour_list = range(24, 169, 24)\n",
    "    \n",
    "    for i in hour_list:\n",
    "        # Fit model to training data\n",
    "        model = sm.tsa.statespace.SARIMAX(\n",
    "            train, \n",
    "            order=(1,1,0), \n",
    "            seasonal_order=(1,1,0,24)\n",
    "        ).fit(max_iter = 50, method = 'powell')\n",
    "        \n",
    "        # Forecast hours loads for day i\n",
    "        forecast = model.get_forecast(steps = 24)\n",
    "        set_trace()\n",
    "        predictions = np.concatenate((predictions, forecast.predicted_mean), axis=None)\n",
    "        # Calculate MAPE and add to mape_list\n",
    "        j = i-24\n",
    "        mape_score = (abs(test[j:i]-predictions[j:i])/test[j:i])*100\n",
    "        mape_mean = mape_score.mean()\n",
    "        mape_list.append(mape_mean)\n",
    "        # Add week i to training data for next loop\n",
    "        train = np.concatenate((train, test[j:i]), axis=None)\n",
    "    \n",
    "    return predictions, mape_list"
   ]
  },
  {
   "cell_type": "code",
   "execution_count": 36,
   "metadata": {
    "ExecuteTime": {
     "end_time": "2020-06-10T00:07:00.667381Z",
     "start_time": "2020-06-10T00:04:40.227981Z"
    }
   },
   "outputs": [
    {
     "name": "stderr",
     "output_type": "stream",
     "text": [
      "/code/venvs/venv/lib/python3.6/site-packages/statsmodels/tsa/statespace/sarimax.py:868: UserWarning: Too few observations to estimate starting parameters for ARMA and trend. All parameters except for variances will be set to zeros.\n",
      "  ' zeros.' % warning_description)\n",
      "/code/venvs/venv/lib/python3.6/site-packages/statsmodels/tsa/statespace/sarimax.py:868: UserWarning: Too few observations to estimate starting parameters for seasonal ARMA. All parameters except for variances will be set to zeros.\n",
      "  ' zeros.' % warning_description)\n"
     ]
    },
    {
     "name": "stdout",
     "output_type": "stream",
     "text": [
      "Optimization terminated successfully.\n",
      "         Current function value: -0.000000\n",
      "         Iterations: 1\n",
      "         Function evaluations: 37\n",
      "> \u001b[0;32m<ipython-input-35-96d6ba03e62a>\u001b[0m(23)\u001b[0;36mwalk_forward_validation\u001b[0;34m()\u001b[0m\n",
      "\u001b[0;32m     21 \u001b[0;31m        \u001b[0mforecast\u001b[0m \u001b[0;34m=\u001b[0m \u001b[0mmodel\u001b[0m\u001b[0;34m.\u001b[0m\u001b[0mget_forecast\u001b[0m\u001b[0;34m(\u001b[0m\u001b[0msteps\u001b[0m \u001b[0;34m=\u001b[0m \u001b[0;36m24\u001b[0m\u001b[0;34m)\u001b[0m\u001b[0;34m\u001b[0m\u001b[0;34m\u001b[0m\u001b[0m\n",
      "\u001b[0m\u001b[0;32m     22 \u001b[0;31m        \u001b[0mset_trace\u001b[0m\u001b[0;34m(\u001b[0m\u001b[0;34m)\u001b[0m\u001b[0;34m\u001b[0m\u001b[0;34m\u001b[0m\u001b[0m\n",
      "\u001b[0m\u001b[0;32m---> 23 \u001b[0;31m        \u001b[0mpredictions\u001b[0m \u001b[0;34m=\u001b[0m \u001b[0mnp\u001b[0m\u001b[0;34m.\u001b[0m\u001b[0mconcatenate\u001b[0m\u001b[0;34m(\u001b[0m\u001b[0;34m(\u001b[0m\u001b[0mpredictions\u001b[0m\u001b[0;34m,\u001b[0m \u001b[0mforecast\u001b[0m\u001b[0;34m.\u001b[0m\u001b[0mpredicted_mean\u001b[0m\u001b[0;34m)\u001b[0m\u001b[0;34m,\u001b[0m \u001b[0maxis\u001b[0m\u001b[0;34m=\u001b[0m\u001b[0;32mNone\u001b[0m\u001b[0;34m)\u001b[0m\u001b[0;34m\u001b[0m\u001b[0;34m\u001b[0m\u001b[0m\n",
      "\u001b[0m\u001b[0;32m     24 \u001b[0;31m        \u001b[0;31m# Calculate MAPE and add to mape_list\u001b[0m\u001b[0;34m\u001b[0m\u001b[0;34m\u001b[0m\u001b[0;34m\u001b[0m\u001b[0m\n",
      "\u001b[0m\u001b[0;32m     25 \u001b[0;31m        \u001b[0mj\u001b[0m \u001b[0;34m=\u001b[0m \u001b[0mi\u001b[0m\u001b[0;34m-\u001b[0m\u001b[0;36m24\u001b[0m\u001b[0;34m\u001b[0m\u001b[0;34m\u001b[0m\u001b[0m\n",
      "\u001b[0m\n",
      "ipdb> forecast.predicted_mean.shape\n",
      "(24,)\n",
      "ipdb> predictions\n",
      "array([], dtype=float64)\n",
      "ipdb> c\n",
      "Optimization terminated successfully.\n",
      "         Current function value: 0.369715\n",
      "         Iterations: 6\n",
      "         Function evaluations: 260\n",
      "> \u001b[0;32m<ipython-input-35-96d6ba03e62a>\u001b[0m(22)\u001b[0;36mwalk_forward_validation\u001b[0;34m()\u001b[0m\n",
      "\u001b[0;32m     20 \u001b[0;31m        \u001b[0;31m# Forecast hours loads for day i\u001b[0m\u001b[0;34m\u001b[0m\u001b[0;34m\u001b[0m\u001b[0;34m\u001b[0m\u001b[0m\n",
      "\u001b[0m\u001b[0;32m     21 \u001b[0;31m        \u001b[0mforecast\u001b[0m \u001b[0;34m=\u001b[0m \u001b[0mmodel\u001b[0m\u001b[0;34m.\u001b[0m\u001b[0mget_forecast\u001b[0m\u001b[0;34m(\u001b[0m\u001b[0msteps\u001b[0m \u001b[0;34m=\u001b[0m \u001b[0;36m24\u001b[0m\u001b[0;34m)\u001b[0m\u001b[0;34m\u001b[0m\u001b[0;34m\u001b[0m\u001b[0m\n",
      "\u001b[0m\u001b[0;32m---> 22 \u001b[0;31m        \u001b[0mset_trace\u001b[0m\u001b[0;34m(\u001b[0m\u001b[0;34m)\u001b[0m\u001b[0;34m\u001b[0m\u001b[0;34m\u001b[0m\u001b[0m\n",
      "\u001b[0m\u001b[0;32m     23 \u001b[0;31m        \u001b[0mpredictions\u001b[0m \u001b[0;34m=\u001b[0m \u001b[0mnp\u001b[0m\u001b[0;34m.\u001b[0m\u001b[0mconcatenate\u001b[0m\u001b[0;34m(\u001b[0m\u001b[0;34m(\u001b[0m\u001b[0mpredictions\u001b[0m\u001b[0;34m,\u001b[0m \u001b[0mforecast\u001b[0m\u001b[0;34m.\u001b[0m\u001b[0mpredicted_mean\u001b[0m\u001b[0;34m)\u001b[0m\u001b[0;34m,\u001b[0m \u001b[0maxis\u001b[0m\u001b[0;34m=\u001b[0m\u001b[0;32mNone\u001b[0m\u001b[0;34m)\u001b[0m\u001b[0;34m\u001b[0m\u001b[0;34m\u001b[0m\u001b[0m\n",
      "\u001b[0m\u001b[0;32m     24 \u001b[0;31m        \u001b[0;31m# Calculate MAPE and add to mape_list\u001b[0m\u001b[0;34m\u001b[0m\u001b[0;34m\u001b[0m\u001b[0;34m\u001b[0m\u001b[0m\n",
      "\u001b[0m\n",
      "ipdb> forecast.predicted_mean.shape\n",
      "(24,)\n",
      "ipdb> predictions\n",
      "array([2.5651378 , 2.9972793 , 2.5224122 , 2.62937349, 2.51495605,\n",
      "       2.55904222, 2.50064176, 2.60648345, 2.65531888, 2.90740273,\n",
      "       3.16835334, 2.82505385, 3.46087474, 3.70567085, 3.61169248,\n",
      "       2.56835314, 2.56585309, 3.44000253, 3.60688806, 3.15063973,\n",
      "       1.99712775, 2.04325202, 1.9770533 , 2.54396055])\n",
      "ipdb> predictions.shape\n",
      "(24,)\n",
      "ipdb> c\n",
      "Optimization terminated successfully.\n",
      "         Current function value: 0.369093\n",
      "         Iterations: 3\n",
      "         Function evaluations: 133\n",
      "> \u001b[0;32m<ipython-input-35-96d6ba03e62a>\u001b[0m(23)\u001b[0;36mwalk_forward_validation\u001b[0;34m()\u001b[0m\n",
      "\u001b[0;32m     21 \u001b[0;31m        \u001b[0mforecast\u001b[0m \u001b[0;34m=\u001b[0m \u001b[0mmodel\u001b[0m\u001b[0;34m.\u001b[0m\u001b[0mget_forecast\u001b[0m\u001b[0;34m(\u001b[0m\u001b[0msteps\u001b[0m \u001b[0;34m=\u001b[0m \u001b[0;36m24\u001b[0m\u001b[0;34m)\u001b[0m\u001b[0;34m\u001b[0m\u001b[0;34m\u001b[0m\u001b[0m\n",
      "\u001b[0m\u001b[0;32m     22 \u001b[0;31m        \u001b[0mset_trace\u001b[0m\u001b[0;34m(\u001b[0m\u001b[0;34m)\u001b[0m\u001b[0;34m\u001b[0m\u001b[0;34m\u001b[0m\u001b[0m\n",
      "\u001b[0m\u001b[0;32m---> 23 \u001b[0;31m        \u001b[0mpredictions\u001b[0m \u001b[0;34m=\u001b[0m \u001b[0mnp\u001b[0m\u001b[0;34m.\u001b[0m\u001b[0mconcatenate\u001b[0m\u001b[0;34m(\u001b[0m\u001b[0;34m(\u001b[0m\u001b[0mpredictions\u001b[0m\u001b[0;34m,\u001b[0m \u001b[0mforecast\u001b[0m\u001b[0;34m.\u001b[0m\u001b[0mpredicted_mean\u001b[0m\u001b[0;34m)\u001b[0m\u001b[0;34m,\u001b[0m \u001b[0maxis\u001b[0m\u001b[0;34m=\u001b[0m\u001b[0;32mNone\u001b[0m\u001b[0;34m)\u001b[0m\u001b[0;34m\u001b[0m\u001b[0;34m\u001b[0m\u001b[0m\n",
      "\u001b[0m\u001b[0;32m     24 \u001b[0;31m        \u001b[0;31m# Calculate MAPE and add to mape_list\u001b[0m\u001b[0;34m\u001b[0m\u001b[0;34m\u001b[0m\u001b[0;34m\u001b[0m\u001b[0m\n",
      "\u001b[0m\u001b[0;32m     25 \u001b[0;31m        \u001b[0mj\u001b[0m \u001b[0;34m=\u001b[0m \u001b[0mi\u001b[0m\u001b[0;34m-\u001b[0m\u001b[0;36m24\u001b[0m\u001b[0;34m\u001b[0m\u001b[0;34m\u001b[0m\u001b[0m\n",
      "\u001b[0m\n",
      "ipdb> predictions.shape\n",
      "(48,)\n",
      "ipdb> c\n",
      "Optimization terminated successfully.\n",
      "         Current function value: 0.430309\n",
      "         Iterations: 3\n",
      "         Function evaluations: 121\n",
      "> \u001b[0;32m<ipython-input-35-96d6ba03e62a>\u001b[0m(22)\u001b[0;36mwalk_forward_validation\u001b[0;34m()\u001b[0m\n",
      "\u001b[0;32m     20 \u001b[0;31m        \u001b[0;31m# Forecast hours loads for day i\u001b[0m\u001b[0;34m\u001b[0m\u001b[0;34m\u001b[0m\u001b[0;34m\u001b[0m\u001b[0m\n",
      "\u001b[0m\u001b[0;32m     21 \u001b[0;31m        \u001b[0mforecast\u001b[0m \u001b[0;34m=\u001b[0m \u001b[0mmodel\u001b[0m\u001b[0;34m.\u001b[0m\u001b[0mget_forecast\u001b[0m\u001b[0;34m(\u001b[0m\u001b[0msteps\u001b[0m \u001b[0;34m=\u001b[0m \u001b[0;36m24\u001b[0m\u001b[0;34m)\u001b[0m\u001b[0;34m\u001b[0m\u001b[0;34m\u001b[0m\u001b[0m\n",
      "\u001b[0m\u001b[0;32m---> 22 \u001b[0;31m        \u001b[0mset_trace\u001b[0m\u001b[0;34m(\u001b[0m\u001b[0;34m)\u001b[0m\u001b[0;34m\u001b[0m\u001b[0;34m\u001b[0m\u001b[0m\n",
      "\u001b[0m\u001b[0;32m     23 \u001b[0;31m        \u001b[0mpredictions\u001b[0m \u001b[0;34m=\u001b[0m \u001b[0mnp\u001b[0m\u001b[0;34m.\u001b[0m\u001b[0mconcatenate\u001b[0m\u001b[0;34m(\u001b[0m\u001b[0;34m(\u001b[0m\u001b[0mpredictions\u001b[0m\u001b[0;34m,\u001b[0m \u001b[0mforecast\u001b[0m\u001b[0;34m.\u001b[0m\u001b[0mpredicted_mean\u001b[0m\u001b[0;34m)\u001b[0m\u001b[0;34m,\u001b[0m \u001b[0maxis\u001b[0m\u001b[0;34m=\u001b[0m\u001b[0;32mNone\u001b[0m\u001b[0;34m)\u001b[0m\u001b[0;34m\u001b[0m\u001b[0;34m\u001b[0m\u001b[0m\n",
      "\u001b[0m\u001b[0;32m     24 \u001b[0;31m        \u001b[0;31m# Calculate MAPE and add to mape_list\u001b[0m\u001b[0;34m\u001b[0m\u001b[0;34m\u001b[0m\u001b[0;34m\u001b[0m\u001b[0m\n",
      "\u001b[0m\n",
      "ipdb> predictions.shape\n",
      "(72,)\n",
      "ipdb> c\n",
      "Optimization terminated successfully.\n",
      "         Current function value: 0.560930\n",
      "         Iterations: 3\n",
      "         Function evaluations: 129\n",
      "> \u001b[0;32m<ipython-input-35-96d6ba03e62a>\u001b[0m(23)\u001b[0;36mwalk_forward_validation\u001b[0;34m()\u001b[0m\n",
      "\u001b[0;32m     21 \u001b[0;31m        \u001b[0mforecast\u001b[0m \u001b[0;34m=\u001b[0m \u001b[0mmodel\u001b[0m\u001b[0;34m.\u001b[0m\u001b[0mget_forecast\u001b[0m\u001b[0;34m(\u001b[0m\u001b[0msteps\u001b[0m \u001b[0;34m=\u001b[0m \u001b[0;36m24\u001b[0m\u001b[0;34m)\u001b[0m\u001b[0;34m\u001b[0m\u001b[0;34m\u001b[0m\u001b[0m\n",
      "\u001b[0m\u001b[0;32m     22 \u001b[0;31m        \u001b[0mset_trace\u001b[0m\u001b[0;34m(\u001b[0m\u001b[0;34m)\u001b[0m\u001b[0;34m\u001b[0m\u001b[0;34m\u001b[0m\u001b[0m\n",
      "\u001b[0m\u001b[0;32m---> 23 \u001b[0;31m        \u001b[0mpredictions\u001b[0m \u001b[0;34m=\u001b[0m \u001b[0mnp\u001b[0m\u001b[0;34m.\u001b[0m\u001b[0mconcatenate\u001b[0m\u001b[0;34m(\u001b[0m\u001b[0;34m(\u001b[0m\u001b[0mpredictions\u001b[0m\u001b[0;34m,\u001b[0m \u001b[0mforecast\u001b[0m\u001b[0;34m.\u001b[0m\u001b[0mpredicted_mean\u001b[0m\u001b[0;34m)\u001b[0m\u001b[0;34m,\u001b[0m \u001b[0maxis\u001b[0m\u001b[0;34m=\u001b[0m\u001b[0;32mNone\u001b[0m\u001b[0;34m)\u001b[0m\u001b[0;34m\u001b[0m\u001b[0;34m\u001b[0m\u001b[0m\n",
      "\u001b[0m\u001b[0;32m     24 \u001b[0;31m        \u001b[0;31m# Calculate MAPE and add to mape_list\u001b[0m\u001b[0;34m\u001b[0m\u001b[0;34m\u001b[0m\u001b[0;34m\u001b[0m\u001b[0m\n",
      "\u001b[0m\u001b[0;32m     25 \u001b[0;31m        \u001b[0mj\u001b[0m \u001b[0;34m=\u001b[0m \u001b[0mi\u001b[0m\u001b[0;34m-\u001b[0m\u001b[0;36m24\u001b[0m\u001b[0;34m\u001b[0m\u001b[0;34m\u001b[0m\u001b[0m\n",
      "\u001b[0m\n",
      "ipdb> predictions.shape\n",
      "(96,)\n",
      "ipdb> forecast.predicted_mean.shape\n",
      "(24,)\n",
      "ipdb> c\n",
      "Optimization terminated successfully.\n",
      "         Current function value: 0.598385\n",
      "         Iterations: 3\n",
      "         Function evaluations: 125\n",
      "> \u001b[0;32m<ipython-input-35-96d6ba03e62a>\u001b[0m(22)\u001b[0;36mwalk_forward_validation\u001b[0;34m()\u001b[0m\n",
      "\u001b[0;32m     20 \u001b[0;31m        \u001b[0;31m# Forecast hours loads for day i\u001b[0m\u001b[0;34m\u001b[0m\u001b[0;34m\u001b[0m\u001b[0;34m\u001b[0m\u001b[0m\n",
      "\u001b[0m\u001b[0;32m     21 \u001b[0;31m        \u001b[0mforecast\u001b[0m \u001b[0;34m=\u001b[0m \u001b[0mmodel\u001b[0m\u001b[0;34m.\u001b[0m\u001b[0mget_forecast\u001b[0m\u001b[0;34m(\u001b[0m\u001b[0msteps\u001b[0m \u001b[0;34m=\u001b[0m \u001b[0;36m24\u001b[0m\u001b[0;34m)\u001b[0m\u001b[0;34m\u001b[0m\u001b[0;34m\u001b[0m\u001b[0m\n",
      "\u001b[0m\u001b[0;32m---> 22 \u001b[0;31m        \u001b[0mset_trace\u001b[0m\u001b[0;34m(\u001b[0m\u001b[0;34m)\u001b[0m\u001b[0;34m\u001b[0m\u001b[0;34m\u001b[0m\u001b[0m\n",
      "\u001b[0m\u001b[0;32m     23 \u001b[0;31m        \u001b[0mpredictions\u001b[0m \u001b[0;34m=\u001b[0m \u001b[0mnp\u001b[0m\u001b[0;34m.\u001b[0m\u001b[0mconcatenate\u001b[0m\u001b[0;34m(\u001b[0m\u001b[0;34m(\u001b[0m\u001b[0mpredictions\u001b[0m\u001b[0;34m,\u001b[0m \u001b[0mforecast\u001b[0m\u001b[0;34m.\u001b[0m\u001b[0mpredicted_mean\u001b[0m\u001b[0;34m)\u001b[0m\u001b[0;34m,\u001b[0m \u001b[0maxis\u001b[0m\u001b[0;34m=\u001b[0m\u001b[0;32mNone\u001b[0m\u001b[0;34m)\u001b[0m\u001b[0;34m\u001b[0m\u001b[0;34m\u001b[0m\u001b[0m\n",
      "\u001b[0m\u001b[0;32m     24 \u001b[0;31m        \u001b[0;31m# Calculate MAPE and add to mape_list\u001b[0m\u001b[0;34m\u001b[0m\u001b[0;34m\u001b[0m\u001b[0;34m\u001b[0m\u001b[0m\n",
      "\u001b[0m\n",
      "ipdb> predictions.shape\n",
      "(120,)\n",
      "ipdb> c\n",
      "Optimization terminated successfully.\n",
      "         Current function value: 0.578096\n",
      "         Iterations: 3\n",
      "         Function evaluations: 133\n",
      "> \u001b[0;32m<ipython-input-35-96d6ba03e62a>\u001b[0m(23)\u001b[0;36mwalk_forward_validation\u001b[0;34m()\u001b[0m\n",
      "\u001b[0;32m     21 \u001b[0;31m        \u001b[0mforecast\u001b[0m \u001b[0;34m=\u001b[0m \u001b[0mmodel\u001b[0m\u001b[0;34m.\u001b[0m\u001b[0mget_forecast\u001b[0m\u001b[0;34m(\u001b[0m\u001b[0msteps\u001b[0m \u001b[0;34m=\u001b[0m \u001b[0;36m24\u001b[0m\u001b[0;34m)\u001b[0m\u001b[0;34m\u001b[0m\u001b[0;34m\u001b[0m\u001b[0m\n",
      "\u001b[0m\u001b[0;32m     22 \u001b[0;31m        \u001b[0mset_trace\u001b[0m\u001b[0;34m(\u001b[0m\u001b[0;34m)\u001b[0m\u001b[0;34m\u001b[0m\u001b[0;34m\u001b[0m\u001b[0m\n",
      "\u001b[0m\u001b[0;32m---> 23 \u001b[0;31m        \u001b[0mpredictions\u001b[0m \u001b[0;34m=\u001b[0m \u001b[0mnp\u001b[0m\u001b[0;34m.\u001b[0m\u001b[0mconcatenate\u001b[0m\u001b[0;34m(\u001b[0m\u001b[0;34m(\u001b[0m\u001b[0mpredictions\u001b[0m\u001b[0;34m,\u001b[0m \u001b[0mforecast\u001b[0m\u001b[0;34m.\u001b[0m\u001b[0mpredicted_mean\u001b[0m\u001b[0;34m)\u001b[0m\u001b[0;34m,\u001b[0m \u001b[0maxis\u001b[0m\u001b[0;34m=\u001b[0m\u001b[0;32mNone\u001b[0m\u001b[0;34m)\u001b[0m\u001b[0;34m\u001b[0m\u001b[0;34m\u001b[0m\u001b[0m\n",
      "\u001b[0m\u001b[0;32m     24 \u001b[0;31m        \u001b[0;31m# Calculate MAPE and add to mape_list\u001b[0m\u001b[0;34m\u001b[0m\u001b[0;34m\u001b[0m\u001b[0;34m\u001b[0m\u001b[0m\n",
      "\u001b[0m\u001b[0;32m     25 \u001b[0;31m        \u001b[0mj\u001b[0m \u001b[0;34m=\u001b[0m \u001b[0mi\u001b[0m\u001b[0;34m-\u001b[0m\u001b[0;36m24\u001b[0m\u001b[0;34m\u001b[0m\u001b[0;34m\u001b[0m\u001b[0m\n",
      "\u001b[0m\n"
     ]
    },
    {
     "name": "stdout",
     "output_type": "stream",
     "text": [
      "ipdb> predictions.shape\n",
      "(144,)\n",
      "ipdb> c\n"
     ]
    }
   ],
   "source": [
    "import numpy as np\n",
    "\n",
    "predictions, mape_list = walk_forward_validation(train, 24)"
   ]
  },
  {
   "cell_type": "code",
   "execution_count": 32,
   "metadata": {
    "ExecuteTime": {
     "end_time": "2020-06-09T23:58:45.510246Z",
     "start_time": "2020-06-09T23:58:45.501931Z"
    }
   },
   "outputs": [
    {
     "name": "stdout",
     "output_type": "stream",
     "text": [
      "[2.5651378  2.9972793  2.5224122  2.62937349 2.51495605 2.55904222\n",
      " 2.50064176 2.60648345 2.65531888 2.90740273 3.16835334 2.82505385\n",
      " 3.46087474 3.70567085 3.61169248 2.56835314 2.56585309 3.44000253\n",
      " 3.60688806 3.15063973 1.99712775 2.04325202 1.9770533  2.54396055\n",
      " 2.06365261 1.76346577 2.08934308 1.96200129 2.05628032 2.02663816\n",
      " 2.14205902 2.09026806 1.97215883 1.84815117 1.5607033  1.93004959\n",
      " 2.28268742 2.0161856  1.97416546 2.86783242 3.77379994 2.02329999\n",
      " 2.63400768 2.11155482 3.1639257  1.41716529 2.44424777 1.89858731\n",
      " 1.82659942 2.09041827 1.92059457 2.05309243 1.94448688 2.01286246\n",
      " 2.00781619 1.98731029 2.02354343 2.05130536 2.08221063 2.2555511\n",
      " 2.40661477 2.67312925 2.29210698 2.2435346  2.78121029 2.37965314\n",
      " 2.47284853 2.71811718 2.46369014 2.05458266 1.53018846 2.45271892\n",
      " 1.77629144 1.5557237  1.62800655 1.64077384 1.89184869 1.58872034\n",
      " 1.88808979 1.61716885 1.62649712 1.70651787 1.608462   2.00698443\n",
      " 1.86840916 2.28298661 1.91945318 2.21372023 2.52825721 2.03583199\n",
      " 2.47342983 2.39114782 1.52124882 1.85976923 1.48508992 1.85404587\n",
      " 2.06564995 1.86214472 2.14954455 1.94445963 2.05206475 1.87293688\n",
      " 2.02609925 2.2736906  1.97942758 1.89481282 1.81231405 1.71749502\n",
      " 2.11580222 2.21410786 2.47800748 1.77846942 1.81749728 2.21560257\n",
      " 2.97883851 1.989727   1.44729004 1.63870807 2.320083   2.10693016\n",
      " 1.34139885 1.34451857 1.4658436  1.36168989 1.34339605 1.3206914\n",
      " 1.2881522  1.55130891 1.35364314 1.54652865 1.15731213 0.85517607\n",
      " 1.5071086  1.67691477 1.41179503 0.79873342 1.15924468 1.19650345\n",
      " 1.94084512 1.30015848 0.82383473 1.14609351 1.35511835 1.491699\n",
      " 1.51132479 1.61914589 1.4471025  1.52491584 1.48934537 1.48399144\n",
      " 1.45962573 1.46583023 1.67510792 1.77987118 1.38213635 1.43695016\n",
      " 1.87938424 2.08137514 1.67087017 1.50490696 2.08619429 1.45984673\n",
      " 2.04726146 1.67183851 1.05768382 1.56031542 0.95972688 1.57274743]\n",
      "[47.45970043295866, 21.743931617825258, 18.921822128916844, 26.773086455605323, 34.10672930449281, 30.50500222653024, 21.713238614462522]\n"
     ]
    }
   ],
   "source": [
    "print(predictionsb)\n",
    "print(mape_list)"
   ]
  },
  {
   "cell_type": "code",
   "execution_count": 34,
   "metadata": {
    "ExecuteTime": {
     "end_time": "2020-06-10T00:00:35.596086Z",
     "start_time": "2020-06-10T00:00:35.590588Z"
    }
   },
   "outputs": [
    {
     "data": {
      "text/plain": [
       "(168,)"
      ]
     },
     "execution_count": 34,
     "metadata": {},
     "output_type": "execute_result"
    }
   ],
   "source": [
    "predictions.shape"
   ]
  },
  {
   "cell_type": "code",
   "execution_count": 37,
   "metadata": {
    "ExecuteTime": {
     "end_time": "2020-06-10T00:09:09.175945Z",
     "start_time": "2020-06-10T00:09:09.170828Z"
    }
   },
   "outputs": [
    {
     "data": {
      "text/plain": [
       "(312,)"
      ]
     },
     "execution_count": 37,
     "metadata": {},
     "output_type": "execute_result"
    }
   ],
   "source": [
    "train.shape"
   ]
  },
  {
   "cell_type": "code",
   "execution_count": 41,
   "metadata": {
    "ExecuteTime": {
     "end_time": "2020-06-10T00:16:01.367875Z",
     "start_time": "2020-06-10T00:16:01.158242Z"
    }
   },
   "outputs": [
    {
     "data": {
      "image/png": "[encoded data removed]",
      "text/plain": [
       "<Figure size 432x288 with 1 Axes>"
      ]
     },
     "metadata": {
      "needs_background": "light"
     },
     "output_type": "display_data"
    }
   ],
   "source": [
    "# evenly sampled time at 200ms intervals\n",
    "t = np.arange(0, 168)\n",
    "\n",
    "# red dashes, blue squares and green triangles\n",
    "plt.plot(t, predictions, 'r--', t, train[24:192], 'b--')\n",
    "plt.show()"
   ]
  }
 ],
 "metadata": {
  "kernelspec": {
   "display_name": "Python 3",
   "language": "python",
   "name": "python3"
  },
  "language_info": {
   "codemirror_mode": {
    "name": "ipython",
    "version": 3
   },
   "file_extension": ".py",
   "mimetype": "text/x-python",
   "name": "python",
   "nbconvert_exporter": "python",
   "pygments_lexer": "ipython3",
   "version": "3.6.9"
  }
 },
 "nbformat": 4,
 "nbformat_minor": 2
}
