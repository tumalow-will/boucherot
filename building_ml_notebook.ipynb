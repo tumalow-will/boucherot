{
 "cells": [
  {
   "cell_type": "code",
   "execution_count": 37,
   "metadata": {},
   "outputs": [],
   "source": [
    "import requests\n",
    "import pandas as pd\n",
    "#df = pd.read_csv('/home/will/notebooks/usage_data/cmg/2020-04-19__2020-04-26/Fire-MainService.raw.2020-04-19__2020-04-26.csv')\n",
    "\n",
    "def add_time_cols(df):\n",
    "    '''\n",
    "    Returns a dataframe with added columns describing the time of each measurement.\n",
    "    \n",
    "    df     input dataframe\n",
    "    '''\n",
    "    df.loc[:,'hr'] = df.index.map(lambda d: d.timetuple().tm_hour)    \n",
    "    df.loc[:,'month'] = df.index.map(lambda d: d.timetuple().tm_mon)\n",
    "    df.loc[:,'year'] = df.index.map(lambda d: d.timetuple().tm_year)\n",
    "    df.loc[:,'mday'] = df.index.map(lambda d: d.timetuple().tm_mday)\n",
    "    df.loc[:,'yday'] = df.index.map(lambda d: d.timetuple().tm_yday)\n",
    "    df.loc[:,'yrmonth'] = df['year']*100 + df['month']\n",
    "    df.loc[:,'yryday'] = df['year']*1000 + df['yday']\n",
    "    return df\n",
    "\n",
    "def process_df(df):\n",
    "    #df =df.set_index(pd.to_datetime(df.ts))\n",
    "    #del df['ts']\n",
    "    #df.columns = ['usage']\n",
    "    return add_time_cols(df)\n",
    "\n",
    "def load_df(key, hdf='dataset.h5'):\n",
    "    df = pd.read_hdf(hdf, key)\n",
    "    return process_df(df)\n",
    "\n",
    "def see_available_datasets(hdf='dataset.h5'):\n",
    "    store = pd.HDFStore(hdf)\n",
    "    return store.keys()\n",
    "\n",
    "def download_dataset(url='https://wtgtemp.s3.amazonaws.com/dataset.h5', hdf='dataset.h5', force=False):\n",
    "    if os.path.exists(hdf):\n",
    "        print(\"Dataset already exists.  Skipping.  Rename or delete the file to download again\")\n",
    "        return False\n",
    "    print(\"Downloading...\")\n",
    "    resp = requests.get(url)\n",
    "    with open(hdf, 'wb') as f:\n",
    "        f.write(resp.content)"
   ]
  },
  {
   "cell_type": "markdown",
   "metadata": {},
   "source": [
    "Some functions Ive found generally useful for slicing and dicing"
   ]
  },
  {
   "cell_type": "code",
   "execution_count": 35,
   "metadata": {},
   "outputs": [],
   "source": [
    "#retrievers ====================\n",
    "def get_item(df, name, value):\n",
    "    '''\n",
    "    Returns a subsection of the dataframe df constituted by all rows corresponding to an arbitrary column value\n",
    "    \n",
    "    df:        dataframe input\n",
    "    name:      name of the column whose value is being examined. (Ex: \"year\")\n",
    "    value:     column value whose rows will be included in the returned dataframe. (Ex: \"2018\")\n",
    "    '''\n",
    "    return df.ix[df[name]==value]\n",
    "\n",
    "def get_day(df, yryday):\n",
    "    '''\n",
    "    Returns the subsection of the dataframe df corresponding to yryday\n",
    "    \n",
    "    df:          dataframe input\n",
    "    yrmonth:     year and day (in \"year_yday\" format, ex: 201842 for 2/11) whose subsection is returned\n",
    "    '''\n",
    "    return get_item(df, 'yryday', yryday)\n",
    "\n",
    "def get_month(df, yrmonth):\n",
    "    '''\n",
    "    Returns the subsection of the dataframe df corresponding to yrmonth\n",
    "    \n",
    "    df:          dataframe input\n",
    "    yrmonth:     year and month (in \"year_month\" format, ex: 201803 for 3/2018) whose subsection is returned\n",
    "    '''\n",
    "    return get_item(df, 'yrmonth', yrmonth)\n",
    "\n",
    "#iterators ==================\n",
    "def get_list_dfs(df, name):\n",
    "    '''\n",
    "    Decomposes an input dataframe into separate dataframes, each with rows corresponding to a unique value on a specified column.\n",
    "    \n",
    "    df:      input dataframe\n",
    "    name:    column whose values are examined\n",
    "    \n",
    "    '''\n",
    "    return [df.ix[df[name]==value] for value in df[name].unique()]\n",
    "\n",
    "def month_dfs(df):\n",
    "    '''\n",
    "    Returns a list of dfs, one for each month\n",
    "    '''\n",
    "    #return [df.ix[df.yrmonth==yrmonth] for yrmonth in df.yrmonth.unique()]\n",
    "    return get_list_dfs(df, 'yrmonth')\n",
    "\n",
    "def day_dfs(df):\n",
    "    '''\n",
    "    Returns a list of dfs, one for each day.\n",
    "    '''\n",
    "    return get_list_dfs(df, 'yryday')\n"
   ]
  },
  {
   "cell_type": "code",
   "execution_count": 38,
   "metadata": {},
   "outputs": [
    {
     "ename": "NameError",
     "evalue": "name 'os' is not defined",
     "output_type": "error",
     "traceback": [
      "\u001b[0;31m---------------------------------------------------------------------------\u001b[0m",
      "\u001b[0;31mNameError\u001b[0m                                 Traceback (most recent call last)",
      "\u001b[0;32m<ipython-input-38-20b7621fa1ab>\u001b[0m in \u001b[0;36m<module>\u001b[0;34m\u001b[0m\n\u001b[0;32m----> 1\u001b[0;31m \u001b[0mdownload_dataset\u001b[0m\u001b[0;34m(\u001b[0m\u001b[0;34m)\u001b[0m\u001b[0;34m\u001b[0m\u001b[0;34m\u001b[0m\u001b[0m\n\u001b[0m\u001b[1;32m      2\u001b[0m \u001b[0msee_available_datasets\u001b[0m\u001b[0;34m(\u001b[0m\u001b[0;34m)\u001b[0m\u001b[0;34m\u001b[0m\u001b[0;34m\u001b[0m\u001b[0m\n",
      "\u001b[0;32m<ipython-input-37-36b723ba26df>\u001b[0m in \u001b[0;36mdownload_dataset\u001b[0;34m(url, hdf, force)\u001b[0m\n\u001b[1;32m     33\u001b[0m \u001b[0;34m\u001b[0m\u001b[0m\n\u001b[1;32m     34\u001b[0m \u001b[0;32mdef\u001b[0m \u001b[0mdownload_dataset\u001b[0m\u001b[0;34m(\u001b[0m\u001b[0murl\u001b[0m\u001b[0;34m=\u001b[0m\u001b[0;34m'https://wtgtemp.s3.amazonaws.com/dataset.h5'\u001b[0m\u001b[0;34m,\u001b[0m \u001b[0mhdf\u001b[0m\u001b[0;34m=\u001b[0m\u001b[0;34m'dataset.h5'\u001b[0m\u001b[0;34m,\u001b[0m \u001b[0mforce\u001b[0m\u001b[0;34m=\u001b[0m\u001b[0;32mFalse\u001b[0m\u001b[0;34m)\u001b[0m\u001b[0;34m:\u001b[0m\u001b[0;34m\u001b[0m\u001b[0;34m\u001b[0m\u001b[0m\n\u001b[0;32m---> 35\u001b[0;31m     \u001b[0;32mif\u001b[0m \u001b[0mos\u001b[0m\u001b[0;34m.\u001b[0m\u001b[0mpath\u001b[0m\u001b[0;34m.\u001b[0m\u001b[0mexists\u001b[0m\u001b[0;34m(\u001b[0m\u001b[0mhdf\u001b[0m\u001b[0;34m)\u001b[0m\u001b[0;34m:\u001b[0m\u001b[0;34m\u001b[0m\u001b[0;34m\u001b[0m\u001b[0m\n\u001b[0m\u001b[1;32m     36\u001b[0m         \u001b[0mprint\u001b[0m\u001b[0;34m(\u001b[0m\u001b[0;34m\"Dataset already exists.  Skipping.  Rename or delete the file to download again\"\u001b[0m\u001b[0;34m)\u001b[0m\u001b[0;34m\u001b[0m\u001b[0;34m\u001b[0m\u001b[0m\n\u001b[1;32m     37\u001b[0m         \u001b[0;32mreturn\u001b[0m \u001b[0;32mFalse\u001b[0m\u001b[0;34m\u001b[0m\u001b[0;34m\u001b[0m\u001b[0m\n",
      "\u001b[0;31mNameError\u001b[0m: name 'os' is not defined"
     ]
    }
   ],
   "source": [
    "download_dataset()\n",
    "see_available_datasets()"
   ]
  }
 ],
 "metadata": {
  "kernelspec": {
   "display_name": "Python 3",
   "language": "python",
   "name": "python3"
  },
  "language_info": {
   "codemirror_mode": {
    "name": "ipython",
    "version": 3
   },
   "file_extension": ".py",
   "mimetype": "text/x-python",
   "name": "python",
   "nbconvert_exporter": "python",
   "pygments_lexer": "ipython3",
   "version": "3.7.1"
  }
 },
 "nbformat": 4,
 "nbformat_minor": 2
}
